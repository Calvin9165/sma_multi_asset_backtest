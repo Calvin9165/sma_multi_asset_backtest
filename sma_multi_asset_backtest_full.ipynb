{
 "cells": [
  {
   "cell_type": "markdown",
   "metadata": {},
   "source": [
    "### Loading in our Data"
   ]
  },
  {
   "cell_type": "code",
   "execution_count": 56,
   "metadata": {},
   "outputs": [],
   "source": [
    "import pandas as pd\n",
    "import numpy as np\n",
    "import matplotlib.pyplot as plt\n",
    "\n",
    "\n",
    "securities_df = pd.read_csv('spdr_etfs.csv')\n",
    "securities_df['Date'] = pd.to_datetime(securities_df['Date'], dayfirst=False)\n",
    "securities_df.set_index('Date', inplace=True)\n",
    "\n",
    "securities_pct = securities_df.pct_change()\n",
    "securities_pct.fillna(0, inplace=True)"
   ]
  },
  {
   "cell_type": "markdown",
   "metadata": {},
   "source": [
    "### Setting the moving average period and creating a seperate DataFrame for the moving averages"
   ]
  },
  {
   "cell_type": "code",
   "execution_count": 57,
   "metadata": {},
   "outputs": [],
   "source": [
    "ma_period = 50\n",
    "\n",
    "securities_ma = securities_df.rolling(ma_period).mean()\n",
    "securities_ma.dropna(axis=0, inplace=True)"
   ]
  },
  {
   "cell_type": "markdown",
   "metadata": {},
   "source": [
    "### Adjusting the securities_df & securities_pct DataFrames so that we remove data prior to the moving average being calculated"
   ]
  },
  {
   "cell_type": "code",
   "execution_count": 58,
   "metadata": {},
   "outputs": [],
   "source": [
    "securities_df, securities_pct = securities_df.loc[securities_ma.index[0]:], securities_pct.loc[securities_ma.index[0]:]"
   ]
  },
  {
   "cell_type": "markdown",
   "metadata": {},
   "source": [
    "### Creating a new DataFrame that will store our position for each day for each security. Long=1, no position=0"
   ]
  },
  {
   "cell_type": "code",
   "execution_count": 59,
   "metadata": {},
   "outputs": [],
   "source": [
    "dates = securities_pct.index\n",
    "securities = securities_pct.columns\n",
    "\n",
    "positions_pct = pd.DataFrame(data=None, columns=securities, index=dates)\n",
    "\n",
    "for security in securities:\n",
    "\n",
    "    # setting the value of long positions to 1. When the stock price > ma\n",
    "    positions_pct.loc[securities_df[security].shift(1) > securities_ma[security], security] = 1\n",
    "\n",
    "# setting the value of short/no position to 0\n",
    "positions_pct.fillna(0, inplace=True)"
   ]
  },
  {
   "cell_type": "markdown",
   "metadata": {},
   "source": [
    "### Creating a new DataFrame that will multiply the daily pct_change for each security by the position value on that day. Ultimately giving us the daily returns of the backtest"
   ]
  },
  {
   "cell_type": "code",
   "execution_count": 60,
   "metadata": {},
   "outputs": [],
   "source": [
    "returns = pd.DataFrame(data=None, columns=securities, index=dates)\n",
    "\n",
    "for security in securities:\n",
    "\n",
    "    # the return column for each respective security is on a daily basis, position multiplied by daily return\n",
    "    returns[security] = (positions_pct[security] * securities_pct[security])"
   ]
  },
  {
   "cell_type": "code",
   "execution_count": 61,
   "metadata": {},
   "outputs": [
    {
     "data": {
      "text/html": [
       "<div>\n",
       "<style scoped>\n",
       "    .dataframe tbody tr th:only-of-type {\n",
       "        vertical-align: middle;\n",
       "    }\n",
       "\n",
       "    .dataframe tbody tr th {\n",
       "        vertical-align: top;\n",
       "    }\n",
       "\n",
       "    .dataframe thead th {\n",
       "        text-align: right;\n",
       "    }\n",
       "</style>\n",
       "<table border=\"1\" class=\"dataframe\">\n",
       "  <thead>\n",
       "    <tr style=\"text-align: right;\">\n",
       "      <th></th>\n",
       "      <th>XLB</th>\n",
       "      <th>XLE</th>\n",
       "      <th>XLF</th>\n",
       "      <th>XLI</th>\n",
       "      <th>XLK</th>\n",
       "      <th>XLP</th>\n",
       "      <th>XLU</th>\n",
       "      <th>XLV</th>\n",
       "      <th>XLY</th>\n",
       "    </tr>\n",
       "    <tr>\n",
       "      <th>Date</th>\n",
       "      <th></th>\n",
       "      <th></th>\n",
       "      <th></th>\n",
       "      <th></th>\n",
       "      <th></th>\n",
       "      <th></th>\n",
       "      <th></th>\n",
       "      <th></th>\n",
       "      <th></th>\n",
       "    </tr>\n",
       "  </thead>\n",
       "  <tbody>\n",
       "    <tr>\n",
       "      <th>2010-03-16</th>\n",
       "      <td>0.000000</td>\n",
       "      <td>0.000000</td>\n",
       "      <td>0.000000</td>\n",
       "      <td>0.000000</td>\n",
       "      <td>0.000000</td>\n",
       "      <td>0.000000</td>\n",
       "      <td>0.000000</td>\n",
       "      <td>0.000000</td>\n",
       "      <td>0.000000</td>\n",
       "    </tr>\n",
       "    <tr>\n",
       "      <th>2010-03-17</th>\n",
       "      <td>0.005626</td>\n",
       "      <td>0.010955</td>\n",
       "      <td>0.012079</td>\n",
       "      <td>0.001624</td>\n",
       "      <td>0.003057</td>\n",
       "      <td>0.004313</td>\n",
       "      <td>0.003300</td>\n",
       "      <td>0.000311</td>\n",
       "      <td>0.004937</td>\n",
       "    </tr>\n",
       "    <tr>\n",
       "      <th>2010-03-18</th>\n",
       "      <td>-0.007067</td>\n",
       "      <td>-0.014900</td>\n",
       "      <td>-0.005653</td>\n",
       "      <td>0.006812</td>\n",
       "      <td>0.001306</td>\n",
       "      <td>0.001074</td>\n",
       "      <td>-0.004605</td>\n",
       "      <td>0.006843</td>\n",
       "      <td>-0.000307</td>\n",
       "    </tr>\n",
       "    <tr>\n",
       "      <th>2010-03-19</th>\n",
       "      <td>-0.013049</td>\n",
       "      <td>-0.015469</td>\n",
       "      <td>-0.008844</td>\n",
       "      <td>-0.007410</td>\n",
       "      <td>-0.009130</td>\n",
       "      <td>-0.007151</td>\n",
       "      <td>-0.009914</td>\n",
       "      <td>-0.003707</td>\n",
       "      <td>-0.004914</td>\n",
       "    </tr>\n",
       "    <tr>\n",
       "      <th>2010-03-22</th>\n",
       "      <td>0.014724</td>\n",
       "      <td>-0.002619</td>\n",
       "      <td>0.005099</td>\n",
       "      <td>0.002921</td>\n",
       "      <td>0.007459</td>\n",
       "      <td>0.005041</td>\n",
       "      <td>-0.006676</td>\n",
       "      <td>0.006512</td>\n",
       "      <td>0.010494</td>\n",
       "    </tr>\n",
       "  </tbody>\n",
       "</table>\n",
       "</div>"
      ],
      "text/plain": [
       "                 XLB       XLE       XLF       XLI       XLK       XLP  \\\n",
       "Date                                                                     \n",
       "2010-03-16  0.000000  0.000000  0.000000  0.000000  0.000000  0.000000   \n",
       "2010-03-17  0.005626  0.010955  0.012079  0.001624  0.003057  0.004313   \n",
       "2010-03-18 -0.007067 -0.014900 -0.005653  0.006812  0.001306  0.001074   \n",
       "2010-03-19 -0.013049 -0.015469 -0.008844 -0.007410 -0.009130 -0.007151   \n",
       "2010-03-22  0.014724 -0.002619  0.005099  0.002921  0.007459  0.005041   \n",
       "\n",
       "                 XLU       XLV       XLY  \n",
       "Date                                      \n",
       "2010-03-16  0.000000  0.000000  0.000000  \n",
       "2010-03-17  0.003300  0.000311  0.004937  \n",
       "2010-03-18 -0.004605  0.006843 -0.000307  \n",
       "2010-03-19 -0.009914 -0.003707 -0.004914  \n",
       "2010-03-22 -0.006676  0.006512  0.010494  "
      ]
     },
     "execution_count": 61,
     "metadata": {},
     "output_type": "execute_result"
    }
   ],
   "source": [
    "returns.head()"
   ]
  },
  {
   "cell_type": "markdown",
   "metadata": {},
   "source": [
    "### Setting the $ value to run the backtest with. Also setting the frequency to rebalance the portfolio"
   ]
  },
  {
   "cell_type": "code",
   "execution_count": 62,
   "metadata": {},
   "outputs": [],
   "source": [
    "invested = 1000\n",
    "\n",
    "rebal_freq = 21"
   ]
  },
  {
   "cell_type": "markdown",
   "metadata": {},
   "source": [
    "### Creating the DataFrames that will store the values for the backtest"
   ]
  },
  {
   "cell_type": "code",
   "execution_count": 63,
   "metadata": {},
   "outputs": [],
   "source": [
    "# creating the DataFrame that will store the $ value of the total portfolio and setting initial value to invested\n",
    "portfolio_value = pd.DataFrame(data=None, columns=['Portfolio'], index=dates)\n",
    "portfolio_value.iloc[0]['Portfolio'] = invested\n",
    "\n",
    "# pnl_stocks will hold the net PnL Data for each stock over the entire backtest\n",
    "pnl_positions = pd.DataFrame(data=0, columns=securities, index=dates)\n",
    "\n",
    "# the $ value allocated in each position\n",
    "positions = pd.DataFrame(data=None, columns=securities, index=dates)"
   ]
  },
  {
   "cell_type": "code",
   "execution_count": 64,
   "metadata": {},
   "outputs": [],
   "source": [
    "# main loop of the backtest\n",
    "for t in range(0, len(dates), rebal_freq):\n",
    "\n",
    "    num_stocks = len(securities)\n",
    "\n",
    "    if t == 0:\n",
    "        rb_day = dates[t]\n",
    "    else:\n",
    "        rb_day = dates[t + 1]\n",
    "\n",
    "    # the day that we rebalance the portfolio, use this value in portfolio_value to calculate allocation\n",
    "    rb_value = dates[t]\n",
    "\n",
    "    try:\n",
    "        rb_end = dates[t + rebal_freq]\n",
    "    except IndexError:\n",
    "        rb_end = dates[-1]\n",
    "\n",
    "    for position in positions:\n",
    "        positions.loc[rb_day: rb_end, position] = (portfolio_value['Portfolio'][rb_value] / num_stocks) * np.cumprod(1 + returns.loc[rb_day: rb_end, position])\n",
    "        pnl_positions.loc[rb_day:rb_end, position] = (positions.loc[rb_day:rb_end, position] - portfolio_value['Portfolio'][rb_value] / num_stocks) + pnl_positions.loc[rb_value, position]\n",
    "\n",
    "    portfolio_value.loc[rb_day: rb_end, 'Portfolio'] = np.nansum(positions.loc[rb_day: rb_end], axis=1)"
   ]
  },
  {
   "cell_type": "code",
   "execution_count": 65,
   "metadata": {},
   "outputs": [
    {
     "data": {
      "text/plain": [
       "<matplotlib.axes._subplots.AxesSubplot at 0x1f31968e2c8>"
      ]
     },
     "execution_count": 65,
     "metadata": {},
     "output_type": "execute_result"
    },
    {
     "data": {
      "image/png": "[encoded data removed]",
      "text/plain": [
       "<Figure size 432x288 with 1 Axes>"
      ]
     },
     "metadata": {
      "needs_background": "light"
     },
     "output_type": "display_data"
    }
   ],
   "source": [
    "portfolio_value.plot()"
   ]
  },
  {
   "cell_type": "code",
   "execution_count": null,
   "metadata": {},
   "outputs": [],
   "source": []
  }
 ],
 "metadata": {
  "kernelspec": {
   "display_name": "Python 3",
   "language": "python",
   "name": "python3"
  },
  "language_info": {
   "codemirror_mode": {
    "name": "ipython",
    "version": 3
   },
   "file_extension": ".py",
   "mimetype": "text/x-python",
   "name": "python",
   "nbconvert_exporter": "python",
   "pygments_lexer": "ipython3",
   "version": "3.7.6"
  }
 },
 "nbformat": 4,
 "nbformat_minor": 4
}
